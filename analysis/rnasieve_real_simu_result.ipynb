{
 "cells": [
  {
   "cell_type": "code",
   "execution_count": 157,
   "id": "af8f3e5e",
   "metadata": {},
   "outputs": [],
   "source": [
    "import sys\n",
    "import os\n",
    "import numpy as np\n",
    "import pandas as pd\n",
    "import anndata\n",
    "from rnasieve.preprocessing import model_from_raw_counts\n",
    "bulk_p = pd.read_pickle(\"D:/githubs/deconference/data/neuron/real_manu/rnasieve/neuron_ref11_rep100_dirichlet5_corfdr005_all_diff_bulk_p\")\n",
    "# transform it to an array\n",
    "reps_keys = list(bulk_p)\n",
    "bulk_p_array = np.zeros((6,86,100))\n",
    "for i in range(100):\n",
    "    bulk_p_array[:,:,i] = bulk_p[reps_keys[i]]"
   ]
  },
  {
   "cell_type": "code",
   "execution_count": 158,
   "id": "3b22b792",
   "metadata": {},
   "outputs": [],
   "source": [
    "p_hat = np.load('D:/githubs/deconference/output/manuscript/real/rnasieve/neuron_ref11_rep100_dirichlet5_all_diff_p_hat.npy')\n",
    "p_hat_ci_l = np.load('D:/githubs/deconference/output/manuscript/real/rnasieve/neuron_ref11_rep100_dirichlet5_all_diff_p_hat_ci_l.npy')\n",
    "p_hat_ci_r = np.load('D:/githubs/deconference/output/manuscript/real/rnasieve/neuron_ref11_rep100_dirichlet5_all_diff_p_hat_ci_r.npy')"
   ]
  },
  {
   "cell_type": "code",
   "execution_count": 159,
   "id": "61b96da2",
   "metadata": {},
   "outputs": [],
   "source": [
    "def rmse_array(x,y):\n",
    "    n = x.shape[2]\n",
    "    ses = np.zeros(n)\n",
    "    for i in range(n):\n",
    "        ses[i] = np.mean((x[:,:,i]-y[:,:,i])**2)\n",
    "    return np.sqrt(np.mean(ses))"
   ]
  },
  {
   "cell_type": "code",
   "execution_count": 160,
   "id": "1ba991f4",
   "metadata": {},
   "outputs": [],
   "source": [
    "def get_coverage(p_hat,p_hat_ci_l,p_hat_ci_r,true_p):\n",
    "    n = p_hat.shape[2]\n",
    "    K = p_hat.shape[0]\n",
    "    nb = p_hat.shape[1]\n",
    "    z = np.zeros((K,nb))\n",
    "    for i in range(n):\n",
    "        l = true_p[:,:,i] >= p_hat_ci_l[:,:,i]\n",
    "        r = true_p[:,:,i] <= p_hat_ci_r[:,:,i]\n",
    "        z = z+(l*r)\n",
    "    return z/n"
   ]
  },
  {
   "cell_type": "code",
   "execution_count": 161,
   "id": "3081b6f2",
   "metadata": {},
   "outputs": [
    {
     "data": {
      "text/plain": [
       "[0, 1, 4, 2, 3, 5]"
      ]
     },
     "execution_count": 161,
     "metadata": {},
     "output_type": "execute_result"
    }
   ],
   "source": [
    "celltypes = [\"DA\" ,\"Epen1\",\"Sert\",\"FPP\",\"P_FPP\",\"U_Neur\"]\n",
    "celltypes_sieve = ['DA', 'Epen1', 'FPP', 'P_FPP', 'Sert', 'U_Neur']\n",
    "\n",
    "order = [ celltypes_sieve.index(x) if x in celltypes_sieve else None for x in celltypes ]\n",
    "order"
   ]
  },
  {
   "cell_type": "code",
   "execution_count": 162,
   "id": "6542501d",
   "metadata": {},
   "outputs": [
    {
     "data": {
      "text/plain": [
       "0.08015817019377429"
      ]
     },
     "execution_count": 162,
     "metadata": {},
     "output_type": "execute_result"
    }
   ],
   "source": [
    "idx = [i for i in range(100)]\n",
    "#bulk_p_array.shape\n",
    "#p_hat.shape\n",
    "p_hat = p_hat[order,:,:]\n",
    "rmse_array(bulk_p_array[:,:,idx],p_hat[:,:,idx])\n",
    "#rmse_array(bulk_p_array,p_hat[order,:,:])"
   ]
  },
  {
   "cell_type": "code",
   "execution_count": 163,
   "id": "fdc8d13b",
   "metadata": {},
   "outputs": [],
   "source": [
    "coverage = get_coverage(p_hat[:,:,idx],p_hat_ci_l[:,:,idx],p_hat_ci_r[:,:,idx],bulk_p_array[:,:,idx])"
   ]
  },
  {
   "cell_type": "code",
   "execution_count": 164,
   "id": "ec7e1d5b",
   "metadata": {},
   "outputs": [
    {
     "data": {
      "text/plain": [
       "0.10463178294573645"
      ]
     },
     "execution_count": 164,
     "metadata": {},
     "output_type": "execute_result"
    }
   ],
   "source": [
    "np.mean(coverage)"
   ]
  },
  {
   "cell_type": "code",
   "execution_count": 165,
   "id": "42955b2e",
   "metadata": {},
   "outputs": [
    {
     "data": {
      "text/plain": [
       "0.04997732118926757"
      ]
     },
     "execution_count": 165,
     "metadata": {},
     "output_type": "execute_result"
    }
   ],
   "source": [
    "np.std(coverage)"
   ]
  },
  {
   "cell_type": "code",
   "execution_count": null,
   "id": "51600b2f",
   "metadata": {},
   "outputs": [],
   "source": []
  }
 ],
 "metadata": {
  "kernelspec": {
   "display_name": "Python 3",
   "language": "python",
   "name": "python3"
  },
  "language_info": {
   "codemirror_mode": {
    "name": "ipython",
    "version": 3
   },
   "file_extension": ".py",
   "mimetype": "text/x-python",
   "name": "python",
   "nbconvert_exporter": "python",
   "pygments_lexer": "ipython3",
   "version": "3.8.3"
  }
 },
 "nbformat": 4,
 "nbformat_minor": 5
}
