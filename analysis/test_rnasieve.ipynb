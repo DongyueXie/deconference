{
 "cells": [
  {
   "cell_type": "code",
   "execution_count": 1,
   "metadata": {},
   "outputs": [],
   "source": [
    "import sys"
   ]
  },
  {
   "cell_type": "code",
   "execution_count": 2,
   "metadata": {},
   "outputs": [],
   "source": [
    "import numpy as np\n",
    "import pandas as pd\n",
    "import anndata"
   ]
  },
  {
   "cell_type": "code",
   "execution_count": 3,
   "metadata": {},
   "outputs": [],
   "source": [
    "from rnasieve.preprocessing import model_from_raw_counts"
   ]
  },
  {
   "cell_type": "code",
   "execution_count": 1,
   "metadata": {},
   "outputs": [],
   "source": [
    "import rpy2"
   ]
  },
  {
   "cell_type": "code",
   "execution_count": null,
   "metadata": {},
   "outputs": [],
   "source": [
    "import rpy2.robjects as robjects\n",
    "from rpy2.robjects import pandas2ri"
   ]
  },
  {
   "cell_type": "code",
   "execution_count": 10,
   "metadata": {},
   "outputs": [],
   "source": [
    "readRDS = robjects.r['readRDS']"
   ]
  },
  {
   "cell_type": "code",
   "execution_count": 11,
   "metadata": {},
   "outputs": [],
   "source": [
    "df = readRDS('rnasieve/Xin_bulk_count.rds')"
   ]
  },
  {
   "cell_type": "code",
   "execution_count": 12,
   "metadata": {},
   "outputs": [],
   "source": [
    "bulk_count = np.array(df)"
   ]
  },
  {
   "cell_type": "code",
   "execution_count": 13,
   "metadata": {},
   "outputs": [
    {
     "data": {
      "text/plain": [
       "(6792, 18)"
      ]
     },
     "execution_count": 13,
     "metadata": {},
     "output_type": "execute_result"
    }
   ],
   "source": [
    "bulk_count.shape"
   ]
  },
  {
   "cell_type": "code",
   "execution_count": 14,
   "metadata": {},
   "outputs": [
    {
     "data": {
      "text/plain": [
       "array([[  297.,   269.,   127.,   160.],\n",
       "       [15067.,  1442.,  5327.,  2453.],\n",
       "       [ 1488.,   424.,   664.,   994.],\n",
       "       [ 4199.,  3214.,  4998.,   692.]])"
      ]
     },
     "execution_count": 14,
     "metadata": {},
     "output_type": "execute_result"
    }
   ],
   "source": [
    "bulk_count[0:4,0:4]"
   ]
  },
  {
   "cell_type": "code",
   "execution_count": 15,
   "metadata": {},
   "outputs": [],
   "source": [
    "## now create reference dictionary for rnasieve\n",
    "alpha = readRDS('rnasieve/alpha.rds')\n",
    "alpha = np.array(alpha)\n",
    "\n",
    "beta = readRDS('rnasieve/beta.rds')\n",
    "beta = np.array(beta)\n",
    "\n",
    "delta = readRDS('rnasieve/delta.rds')\n",
    "delta = np.array(delta)\n",
    "\n",
    "gamma = readRDS('rnasieve/gamma.rds')\n",
    "gamma = np.array(gamma)"
   ]
  },
  {
   "cell_type": "code",
   "execution_count": 16,
   "metadata": {},
   "outputs": [],
   "source": [
    "## remove genes with all 0's\n",
    "r1=np.where(np.sum(bulk_count,axis=1)==0)\n",
    "r2 = np.where(np.sum(alpha,axis=1)==0)\n",
    "r3 = np.where(np.sum(beta,axis=1)==0)\n",
    "r4 = np.where(np.sum(delta,axis=1)==0)\n",
    "r5 = np.where(np.sum(gamma,axis=1)==0)\n",
    "\n"
   ]
  },
  {
   "cell_type": "code",
   "execution_count": 17,
   "metadata": {},
   "outputs": [
    {
     "data": {
      "text/plain": [
       "(6792, 84)"
      ]
     },
     "execution_count": 17,
     "metadata": {},
     "output_type": "execute_result"
    }
   ],
   "source": [
    "gamma.shape"
   ]
  },
  {
   "cell_type": "code",
   "execution_count": 18,
   "metadata": {},
   "outputs": [],
   "source": [
    "rm_idx = np.concatenate((r1,r2,r3,r4,r5),axis=1)\n",
    "rm_idx = np.unique(rm_idx)"
   ]
  },
  {
   "cell_type": "code",
   "execution_count": 19,
   "metadata": {},
   "outputs": [],
   "source": [
    "bulk_count = np.delete(bulk_count,rm_idx,axis = 0)"
   ]
  },
  {
   "cell_type": "code",
   "execution_count": 20,
   "metadata": {},
   "outputs": [],
   "source": [
    "alpha = np.delete(alpha,rm_idx,axis = 0)"
   ]
  },
  {
   "cell_type": "code",
   "execution_count": 21,
   "metadata": {},
   "outputs": [],
   "source": [
    "beta = np.delete(beta,rm_idx,axis = 0)\n",
    "delta = np.delete(delta,rm_idx,axis = 0)\n",
    "gamma = np.delete(gamma,rm_idx,axis = 0)"
   ]
  },
  {
   "cell_type": "code",
   "execution_count": 22,
   "metadata": {},
   "outputs": [
    {
     "name": "stdout",
     "output_type": "stream",
     "text": [
      "(6740, 18)\n",
      "(6740, 879)\n",
      "(6740, 470)\n",
      "(6740, 48)\n",
      "(6740, 84)\n"
     ]
    }
   ],
   "source": [
    "print(bulk_count.shape)\n",
    "print(alpha.shape)\n",
    "print(beta.shape)\n",
    "print(delta.shape)\n",
    "print(gamma.shape)"
   ]
  },
  {
   "cell_type": "code",
   "execution_count": 23,
   "metadata": {},
   "outputs": [],
   "source": [
    "## create dictionary\n",
    "ref_count = {'alpha':alpha,'beta':beta,'delta':delta,'gamma':gamma}"
   ]
  },
  {
   "cell_type": "code",
   "execution_count": 24,
   "metadata": {},
   "outputs": [],
   "source": [
    "model1, cleaned_psis1 = model_from_raw_counts(ref_count, bulk_count,trim_percent=0.05,gene_thresh=0.2)"
   ]
  },
  {
   "cell_type": "code",
   "execution_count": 25,
   "metadata": {},
   "outputs": [
    {
     "name": "stderr",
     "output_type": "stream",
     "text": [
      "/anaconda3/lib/python3.7/site-packages/cvxpy/problems/problem.py:1061: UserWarning: Solution may be inaccurate. Try another solver, adjusting the solver settings, or solve with verbose=True for more information.\n",
      "  \"Solution may be inaccurate. Try another solver, \"\n",
      "/anaconda3/lib/python3.7/site-packages/cvxpy/problems/problem.py:1061: UserWarning: Solution may be inaccurate. Try another solver, adjusting the solver settings, or solve with verbose=True for more information.\n",
      "  \"Solution may be inaccurate. Try another solver, \"\n",
      "/anaconda3/lib/python3.7/site-packages/cvxpy/problems/problem.py:1061: UserWarning: Solution may be inaccurate. Try another solver, adjusting the solver settings, or solve with verbose=True for more information.\n",
      "  \"Solution may be inaccurate. Try another solver, \"\n",
      "/anaconda3/lib/python3.7/site-packages/cvxpy/problems/problem.py:1061: UserWarning: Solution may be inaccurate. Try another solver, adjusting the solver settings, or solve with verbose=True for more information.\n",
      "  \"Solution may be inaccurate. Try another solver, \"\n",
      "/anaconda3/lib/python3.7/site-packages/cvxpy/problems/problem.py:1061: UserWarning: Solution may be inaccurate. Try another solver, adjusting the solver settings, or solve with verbose=True for more information.\n",
      "  \"Solution may be inaccurate. Try another solver, \"\n",
      "/anaconda3/lib/python3.7/site-packages/cvxpy/problems/problem.py:1061: UserWarning: Solution may be inaccurate. Try another solver, adjusting the solver settings, or solve with verbose=True for more information.\n",
      "  \"Solution may be inaccurate. Try another solver, \"\n",
      "/anaconda3/lib/python3.7/site-packages/cvxpy/problems/problem.py:1061: UserWarning: Solution may be inaccurate. Try another solver, adjusting the solver settings, or solve with verbose=True for more information.\n",
      "  \"Solution may be inaccurate. Try another solver, \"\n",
      "/anaconda3/lib/python3.7/site-packages/cvxpy/problems/problem.py:1061: UserWarning: Solution may be inaccurate. Try another solver, adjusting the solver settings, or solve with verbose=True for more information.\n",
      "  \"Solution may be inaccurate. Try another solver, \"\n",
      "/anaconda3/lib/python3.7/site-packages/cvxpy/problems/problem.py:1061: UserWarning: Solution may be inaccurate. Try another solver, adjusting the solver settings, or solve with verbose=True for more information.\n",
      "  \"Solution may be inaccurate. Try another solver, \"\n",
      "/anaconda3/lib/python3.7/site-packages/cvxpy/problems/problem.py:1061: UserWarning: Solution may be inaccurate. Try another solver, adjusting the solver settings, or solve with verbose=True for more information.\n",
      "  \"Solution may be inaccurate. Try another solver, \"\n"
     ]
    }
   ],
   "source": [
    "out1 = model1.predict(cleaned_psis1)"
   ]
  },
  {
   "cell_type": "code",
   "execution_count": 26,
   "metadata": {},
   "outputs": [
    {
     "data": {
      "text/html": [
       "<div>\n",
       "<style scoped>\n",
       "    .dataframe tbody tr th:only-of-type {\n",
       "        vertical-align: middle;\n",
       "    }\n",
       "\n",
       "    .dataframe tbody tr th {\n",
       "        vertical-align: top;\n",
       "    }\n",
       "\n",
       "    .dataframe thead th {\n",
       "        text-align: right;\n",
       "    }\n",
       "</style>\n",
       "<table border=\"1\" class=\"dataframe\">\n",
       "  <thead>\n",
       "    <tr style=\"text-align: right;\">\n",
       "      <th></th>\n",
       "      <th>alpha</th>\n",
       "      <th>beta</th>\n",
       "      <th>delta</th>\n",
       "      <th>gamma</th>\n",
       "    </tr>\n",
       "  </thead>\n",
       "  <tbody>\n",
       "    <tr>\n",
       "      <th>Bulk 0</th>\n",
       "      <td>0.560623</td>\n",
       "      <td>0.284382</td>\n",
       "      <td>0.083351</td>\n",
       "      <td>0.071644</td>\n",
       "    </tr>\n",
       "    <tr>\n",
       "      <th>Bulk 1</th>\n",
       "      <td>0.145846</td>\n",
       "      <td>0.618863</td>\n",
       "      <td>0.112025</td>\n",
       "      <td>0.123265</td>\n",
       "    </tr>\n",
       "    <tr>\n",
       "      <th>Bulk 2</th>\n",
       "      <td>0.603306</td>\n",
       "      <td>0.275760</td>\n",
       "      <td>0.047214</td>\n",
       "      <td>0.073719</td>\n",
       "    </tr>\n",
       "    <tr>\n",
       "      <th>Bulk 3</th>\n",
       "      <td>0.421512</td>\n",
       "      <td>0.398234</td>\n",
       "      <td>0.042777</td>\n",
       "      <td>0.137477</td>\n",
       "    </tr>\n",
       "    <tr>\n",
       "      <th>Bulk 4</th>\n",
       "      <td>0.465599</td>\n",
       "      <td>0.361569</td>\n",
       "      <td>0.150718</td>\n",
       "      <td>0.022113</td>\n",
       "    </tr>\n",
       "    <tr>\n",
       "      <th>Bulk 5</th>\n",
       "      <td>0.678881</td>\n",
       "      <td>0.133365</td>\n",
       "      <td>0.137843</td>\n",
       "      <td>0.049912</td>\n",
       "    </tr>\n",
       "    <tr>\n",
       "      <th>Bulk 6</th>\n",
       "      <td>0.206071</td>\n",
       "      <td>0.633506</td>\n",
       "      <td>0.032207</td>\n",
       "      <td>0.128216</td>\n",
       "    </tr>\n",
       "    <tr>\n",
       "      <th>Bulk 7</th>\n",
       "      <td>0.295435</td>\n",
       "      <td>0.463923</td>\n",
       "      <td>0.086195</td>\n",
       "      <td>0.154448</td>\n",
       "    </tr>\n",
       "    <tr>\n",
       "      <th>Bulk 8</th>\n",
       "      <td>0.603716</td>\n",
       "      <td>0.263908</td>\n",
       "      <td>0.000000</td>\n",
       "      <td>0.132376</td>\n",
       "    </tr>\n",
       "    <tr>\n",
       "      <th>Bulk 9</th>\n",
       "      <td>0.411857</td>\n",
       "      <td>0.510260</td>\n",
       "      <td>0.077884</td>\n",
       "      <td>0.000000</td>\n",
       "    </tr>\n",
       "    <tr>\n",
       "      <th>Bulk 10</th>\n",
       "      <td>0.715798</td>\n",
       "      <td>0.227675</td>\n",
       "      <td>0.031639</td>\n",
       "      <td>0.024888</td>\n",
       "    </tr>\n",
       "    <tr>\n",
       "      <th>Bulk 11</th>\n",
       "      <td>0.520842</td>\n",
       "      <td>0.476658</td>\n",
       "      <td>0.000000</td>\n",
       "      <td>0.002500</td>\n",
       "    </tr>\n",
       "    <tr>\n",
       "      <th>Bulk 12</th>\n",
       "      <td>0.312460</td>\n",
       "      <td>0.154142</td>\n",
       "      <td>0.075542</td>\n",
       "      <td>0.457856</td>\n",
       "    </tr>\n",
       "    <tr>\n",
       "      <th>Bulk 13</th>\n",
       "      <td>0.568995</td>\n",
       "      <td>0.198604</td>\n",
       "      <td>0.106666</td>\n",
       "      <td>0.125735</td>\n",
       "    </tr>\n",
       "    <tr>\n",
       "      <th>Bulk 14</th>\n",
       "      <td>0.294683</td>\n",
       "      <td>0.517604</td>\n",
       "      <td>0.081216</td>\n",
       "      <td>0.106496</td>\n",
       "    </tr>\n",
       "    <tr>\n",
       "      <th>Bulk 15</th>\n",
       "      <td>0.395287</td>\n",
       "      <td>0.595257</td>\n",
       "      <td>0.009455</td>\n",
       "      <td>0.000000</td>\n",
       "    </tr>\n",
       "    <tr>\n",
       "      <th>Bulk 16</th>\n",
       "      <td>0.948294</td>\n",
       "      <td>0.031224</td>\n",
       "      <td>0.006835</td>\n",
       "      <td>0.013648</td>\n",
       "    </tr>\n",
       "    <tr>\n",
       "      <th>Bulk 17</th>\n",
       "      <td>0.541218</td>\n",
       "      <td>0.458782</td>\n",
       "      <td>0.000000</td>\n",
       "      <td>0.000000</td>\n",
       "    </tr>\n",
       "  </tbody>\n",
       "</table>\n",
       "</div>"
      ],
      "text/plain": [
       "            alpha      beta     delta     gamma\n",
       "Bulk 0   0.560623  0.284382  0.083351  0.071644\n",
       "Bulk 1   0.145846  0.618863  0.112025  0.123265\n",
       "Bulk 2   0.603306  0.275760  0.047214  0.073719\n",
       "Bulk 3   0.421512  0.398234  0.042777  0.137477\n",
       "Bulk 4   0.465599  0.361569  0.150718  0.022113\n",
       "Bulk 5   0.678881  0.133365  0.137843  0.049912\n",
       "Bulk 6   0.206071  0.633506  0.032207  0.128216\n",
       "Bulk 7   0.295435  0.463923  0.086195  0.154448\n",
       "Bulk 8   0.603716  0.263908  0.000000  0.132376\n",
       "Bulk 9   0.411857  0.510260  0.077884  0.000000\n",
       "Bulk 10  0.715798  0.227675  0.031639  0.024888\n",
       "Bulk 11  0.520842  0.476658  0.000000  0.002500\n",
       "Bulk 12  0.312460  0.154142  0.075542  0.457856\n",
       "Bulk 13  0.568995  0.198604  0.106666  0.125735\n",
       "Bulk 14  0.294683  0.517604  0.081216  0.106496\n",
       "Bulk 15  0.395287  0.595257  0.009455  0.000000\n",
       "Bulk 16  0.948294  0.031224  0.006835  0.013648\n",
       "Bulk 17  0.541218  0.458782  0.000000  0.000000"
      ]
     },
     "execution_count": 26,
     "metadata": {},
     "output_type": "execute_result"
    }
   ],
   "source": [
    "out1"
   ]
  },
  {
   "cell_type": "code",
   "execution_count": 27,
   "metadata": {},
   "outputs": [
    {
     "data": {
      "text/plain": [
       "'/Users/dongyue/Documents/deconvolution'"
      ]
     },
     "execution_count": 27,
     "metadata": {},
     "output_type": "execute_result"
    }
   ],
   "source": [
    "import os\n",
    "os.getcwd()"
   ]
  },
  {
   "cell_type": "code",
   "execution_count": 74,
   "metadata": {},
   "outputs": [],
   "source": [
    "out1.to_csv('/Users/dongyue/Documents/deconvolution/rnasieve/rnasieve_xin_est.csv')"
   ]
  },
  {
   "cell_type": "code",
   "execution_count": 57,
   "metadata": {},
   "outputs": [
    {
     "name": "stdout",
     "output_type": "stream",
     "text": [
      "               alpha       beta       delta       gamma\n",
      "Non T2D 1  0.7162162 0.17567568 0.067567568 0.040540541\n",
      "Non T2D 2  0.1739130 0.56521739 0.086956522 0.173913043\n",
      "Non T2D 3  0.6428571 0.23809524 0.071428571 0.047619048\n",
      "Non T2D 4  0.5185185 0.37037037 0.000000000 0.111111111\n",
      "Non T2D 5  0.4423077 0.42307692 0.096153846 0.038461538\n",
      "Non T2D 6  0.7391304 0.15217391 0.086956522 0.021739130\n",
      "Non T2D 7  0.2962963 0.55555556 0.000000000 0.148148148\n",
      "Non T2D 8  0.3333333 0.38095238 0.071428571 0.214285714\n",
      "Non T2D 9  0.7027027 0.18918919 0.027027027 0.081081081\n",
      "Non T2D 10 0.4285714 0.52380952 0.047619048 0.000000000\n",
      "Non T2D 11 0.7931034 0.17241379 0.017241379 0.017241379\n",
      "Non T2D 12 0.6268657 0.35820896 0.014925373 0.000000000\n",
      "T2D 1      0.4318182 0.13636364 0.034090909 0.397727273\n",
      "T2D 2      0.6024096 0.21686747 0.060240964 0.120481928\n",
      "T2D 3      0.4745763 0.44067797 0.033898305 0.050847458\n",
      "T2D 4      0.4910394 0.48387097 0.017921147 0.007168459\n",
      "T2D 5      0.9202454 0.06748466 0.006134969 0.006134969\n",
      "T2D 6      0.6097561 0.36585366 0.019512195 0.004878049\n",
      "\n"
     ]
    }
   ],
   "source": [
    "print((readRDS('rnasieve/Xin_bulk_count_true_beta.rds')))"
   ]
  },
  {
   "cell_type": "code",
   "execution_count": 62,
   "metadata": {},
   "outputs": [
    {
     "name": "stderr",
     "output_type": "stream",
     "text": [
      "/Users/dongyue/Documents/deconvolution/rna-sieve/rnasieve/stats.py:129: RuntimeWarning: invalid value encountered in sqrt\n",
      "  c * np.sqrt(inverse_obs_FI[i, i])) for i in range(alpha.shape[1])]\n"
     ]
    }
   ],
   "source": [
    "out1_ci = model1.compute_marginal_confidence_intervals(sig=0.05)"
   ]
  },
  {
   "cell_type": "code",
   "execution_count": 77,
   "metadata": {},
   "outputs": [],
   "source": [
    "true_beta = np.array(readRDS('rnasieve/Xin_bulk_count_true_beta.rds'))"
   ]
  },
  {
   "cell_type": "code",
   "execution_count": 96,
   "metadata": {},
   "outputs": [
    {
     "name": "stdout",
     "output_type": "stream",
     "text": [
      "range(0, 18)\n"
     ]
    }
   ],
   "source": [
    "print(range(18))"
   ]
  },
  {
   "cell_type": "code",
   "execution_count": 107,
   "metadata": {},
   "outputs": [],
   "source": [
    "coverage = np.zeros((18,4))\n",
    "for i in range(18):\n",
    "    b = true_beta[:,i]\n",
    "    ci = out1_ci[i]\n",
    "    for j in range(4):\n",
    "        if b[j]<=ci[j][1] and b[j]>=ci[j][0]:\n",
    "            coverage[i,j] = 1\n",
    "    "
   ]
  },
  {
   "cell_type": "code",
   "execution_count": 108,
   "metadata": {},
   "outputs": [
    {
     "data": {
      "text/plain": [
       "array([[0., 1., 1., 1.],\n",
       "       [1., 1., 1., 1.],\n",
       "       [1., 1., 1., 1.],\n",
       "       [1., 1., 1., 1.],\n",
       "       [1., 1., 1., 1.],\n",
       "       [1., 1., 1., 1.],\n",
       "       [1., 1., 1., 1.],\n",
       "       [1., 1., 1., 1.],\n",
       "       [1., 1., 1., 1.],\n",
       "       [1., 1., 1., 1.],\n",
       "       [1., 1., 1., 1.],\n",
       "       [0., 0., 1., 1.],\n",
       "       [0., 1., 1., 1.],\n",
       "       [1., 1., 1., 1.],\n",
       "       [0., 1., 1., 1.],\n",
       "       [0., 0., 1., 1.],\n",
       "       [0., 1., 1., 1.],\n",
       "       [0., 0., 1., 1.]])"
      ]
     },
     "execution_count": 108,
     "metadata": {},
     "output_type": "execute_result"
    }
   ],
   "source": [
    "coverage"
   ]
  },
  {
   "cell_type": "code",
   "execution_count": 112,
   "metadata": {},
   "outputs": [
    {
     "data": {
      "text/plain": [
       "array([0.61111111, 0.83333333, 1.        , 1.        ])"
      ]
     },
     "execution_count": 112,
     "metadata": {},
     "output_type": "execute_result"
    }
   ],
   "source": [
    "np.mean(coverage,axis=0)"
   ]
  },
  {
   "cell_type": "code",
   "execution_count": 114,
   "metadata": {},
   "outputs": [
    {
     "data": {
      "text/plain": [
       "array([[[ 0.44,  0.68],\n",
       "        [ 0.17,  0.4 ],\n",
       "        [ 0.02,  0.15],\n",
       "        [-0.  ,  0.15]],\n",
       "\n",
       "       [[ 0.02,  0.27],\n",
       "        [ 0.47,  0.76],\n",
       "        [ 0.03,  0.2 ],\n",
       "        [ 0.04,  0.21]],\n",
       "\n",
       "       [[ 0.45,  0.75],\n",
       "        [ 0.13,  0.43],\n",
       "        [-0.03,  0.13],\n",
       "        [-0.  ,  0.15]],\n",
       "\n",
       "       [[ 0.26,  0.58],\n",
       "        [ 0.24,  0.56],\n",
       "        [-0.02,  0.1 ],\n",
       "        [ 0.04,  0.24]],\n",
       "\n",
       "       [[ 0.18,  0.75],\n",
       "        [ 0.08,  0.65],\n",
       "        [-0.02,  0.32],\n",
       "        [-0.12,  0.16]],\n",
       "\n",
       "       [[ 0.57,  0.79],\n",
       "        [ 0.02,  0.25],\n",
       "        [ 0.05,  0.22],\n",
       "        [-0.02,  0.12]],\n",
       "\n",
       "       [[ 0.08,  0.34],\n",
       "        [ 0.5 ,  0.76],\n",
       "        [-0.03,  0.09],\n",
       "        [ 0.04,  0.21]],\n",
       "\n",
       "       [[ 0.15,  0.44],\n",
       "        [ 0.32,  0.61],\n",
       "        [ 0.02,  0.16],\n",
       "        [ 0.06,  0.25]],\n",
       "\n",
       "       [[ 0.45,  0.75],\n",
       "        [ 0.12,  0.4 ],\n",
       "        [-0.04,  0.04],\n",
       "        [ 0.05,  0.22]],\n",
       "\n",
       "       [[ 0.26,  0.57],\n",
       "        [ 0.37,  0.65],\n",
       "        [ 0.01,  0.14],\n",
       "        [-0.06,  0.06]],\n",
       "\n",
       "       [[ 0.59,  0.84],\n",
       "        [ 0.09,  0.36],\n",
       "        [-0.01,  0.08],\n",
       "        [-0.04,  0.09]],\n",
       "\n",
       "       [[ 0.45,  0.6 ],\n",
       "        [ 0.41,  0.55],\n",
       "        [-0.02,  0.02],\n",
       "        [-0.04,  0.04]],\n",
       "\n",
       "       [[ 0.21,  0.42],\n",
       "        [ 0.06,  0.25],\n",
       "        [ 0.02,  0.13],\n",
       "        [ 0.38,  0.54]],\n",
       "\n",
       "       [[ 0.49,  0.65],\n",
       "        [ 0.11,  0.29],\n",
       "        [ 0.04,  0.17],\n",
       "        [ 0.06,  0.19]],\n",
       "\n",
       "       [[ 0.17,  0.42],\n",
       "        [ 0.39,  0.64],\n",
       "        [ 0.02,  0.15],\n",
       "        [ 0.03,  0.19]],\n",
       "\n",
       "       [[ 0.35,  0.44],\n",
       "        [ 0.57,  0.62],\n",
       "        [-0.02,  0.03],\n",
       "        [-0.04,  0.04]],\n",
       "\n",
       "       [[  nan,   nan],\n",
       "        [-0.03,  0.1 ],\n",
       "        [-0.02,  0.04],\n",
       "        [-0.03,  0.05]],\n",
       "\n",
       "       [[ 0.48,  0.6 ],\n",
       "        [ 0.39,  0.53],\n",
       "        [-0.03,  0.03],\n",
       "        [-0.04,  0.04]]])"
      ]
     },
     "execution_count": 114,
     "metadata": {},
     "output_type": "execute_result"
    }
   ],
   "source": [
    "np.round(out1_ci,2)"
   ]
  },
  {
   "cell_type": "code",
   "execution_count": 65,
   "metadata": {},
   "outputs": [
    {
     "data": {
      "text/html": [
       "\n",
       "<div id=\"altair-viz-48f707e174804e4383ba851831e162d5\"></div>\n",
       "<script type=\"text/javascript\">\n",
       "  (function(spec, embedOpt){\n",
       "    let outputDiv = document.currentScript.previousElementSibling;\n",
       "    if (outputDiv.id !== \"altair-viz-48f707e174804e4383ba851831e162d5\") {\n",
       "      outputDiv = document.getElementById(\"altair-viz-48f707e174804e4383ba851831e162d5\");\n",
       "    }\n",
       "    const paths = {\n",
       "      \"vega\": \"https://cdn.jsdelivr.net/npm//vega@5?noext\",\n",
       "      \"vega-lib\": \"https://cdn.jsdelivr.net/npm//vega-lib?noext\",\n",
       "      \"vega-lite\": \"https://cdn.jsdelivr.net/npm//vega-lite@4.8.1?noext\",\n",
       "      \"vega-embed\": \"https://cdn.jsdelivr.net/npm//vega-embed@6?noext\",\n",
       "    };\n",
       "\n",
       "    function loadScript(lib) {\n",
       "      return new Promise(function(resolve, reject) {\n",
       "        var s = document.createElement('script');\n",
       "        s.src = paths[lib];\n",
       "        s.async = true;\n",
       "        s.onload = () => resolve(paths[lib]);\n",
       "        s.onerror = () => reject(`Error loading script: ${paths[lib]}`);\n",
       "        document.getElementsByTagName(\"head\")[0].appendChild(s);\n",
       "      });\n",
       "    }\n",
       "\n",
       "    function showError(err) {\n",
       "      outputDiv.innerHTML = `<div class=\"error\" style=\"color:red;\">${err}</div>`;\n",
       "      throw err;\n",
       "    }\n",
       "\n",
       "    function displayChart(vegaEmbed) {\n",
       "      vegaEmbed(outputDiv, spec, embedOpt)\n",
       "        .catch(err => showError(`Javascript Error: ${err.message}<br>This usually means there's a typo in your chart specification. See the javascript console for the full traceback.`));\n",
       "    }\n",
       "\n",
       "    if(typeof define === \"function\" && define.amd) {\n",
       "      requirejs.config({paths});\n",
       "      require([\"vega-embed\"], displayChart, err => showError(`Error loading script: ${err.message}`));\n",
       "    } else if (typeof vegaEmbed === \"function\") {\n",
       "      displayChart(vegaEmbed);\n",
       "    } else {\n",
       "      loadScript(\"vega\")\n",
       "        .then(() => loadScript(\"vega-lite\"))\n",
       "        .then(() => loadScript(\"vega-embed\"))\n",
       "        .catch(showError)\n",
       "        .then(() => displayChart(vegaEmbed));\n",
       "    }\n",
       "  })({\"config\": {\"view\": {\"continuousWidth\": 400, \"continuousHeight\": 300}}, \"data\": {\"name\": \"data-ffad6b3835a48b3c6c30442f164e396e\"}, \"mark\": \"bar\", \"encoding\": {\"color\": {\"type\": \"nominal\", \"field\": \"cell_type\"}, \"x\": {\"type\": \"nominal\", \"axis\": {\"title\": \"Bulk\"}, \"field\": \"index\"}, \"y\": {\"type\": \"quantitative\", \"aggregate\": \"sum\", \"axis\": {\"title\": \"Proportion\"}, \"field\": \"proportion\", \"stack\": \"normalize\"}}, \"title\": \".\", \"$schema\": \"https://vega.github.io/schema/vega-lite/v4.8.1.json\", \"datasets\": {\"data-ffad6b3835a48b3c6c30442f164e396e\": [{\"index\": \"Bulk 0\", \"cell_type\": \"alpha\", \"proportion\": 0.5606233377554853, \"ci_err\": 0.11588916278712, \"ci_low\": 0.4447341749683653, \"ci_high\": 0.6765125005426054}, {\"index\": \"Bulk 1\", \"cell_type\": \"alpha\", \"proportion\": 0.14584648205695203, \"ci_err\": 0.12428267614684653, \"ci_low\": 0.021563805910105496, \"ci_high\": 0.27012915820379857}, {\"index\": \"Bulk 2\", \"cell_type\": \"alpha\", \"proportion\": 0.6033063458032751, \"ci_err\": 0.15040695353917544, \"ci_low\": 0.4528993922640997, \"ci_high\": 0.7537132993424506}, {\"index\": \"Bulk 3\", \"cell_type\": \"alpha\", \"proportion\": 0.4215120256553391, \"ci_err\": 0.16304641933562314, \"ci_low\": 0.25846560631971593, \"ci_high\": 0.5845584449909622}, {\"index\": \"Bulk 4\", \"cell_type\": \"alpha\", \"proportion\": 0.46559942960902884, \"ci_err\": 0.2838942649716424, \"ci_low\": 0.18170516463738645, \"ci_high\": 0.7494936945806712}, {\"index\": \"Bulk 5\", \"cell_type\": \"alpha\", \"proportion\": 0.6788813214752292, \"ci_err\": 0.11305197740431805, \"ci_low\": 0.5658293440709111, \"ci_high\": 0.7919332988795472}, {\"index\": \"Bulk 6\", \"cell_type\": \"alpha\", \"proportion\": 0.20607128207431175, \"ci_err\": 0.13057746940250575, \"ci_low\": 0.075493812671806, \"ci_high\": 0.3366487514768175}, {\"index\": \"Bulk 7\", \"cell_type\": \"alpha\", \"proportion\": 0.2954348311321945, \"ci_err\": 0.14464400694778612, \"ci_low\": 0.15079082418440837, \"ci_high\": 0.4400788380799806}, {\"index\": \"Bulk 8\", \"cell_type\": \"alpha\", \"proportion\": 0.6037156541036219, \"ci_err\": 0.1493094801448519, \"ci_low\": 0.45440617395877003, \"ci_high\": 0.7530251342484738}, {\"index\": \"Bulk 9\", \"cell_type\": \"alpha\", \"proportion\": 0.4118567515437729, \"ci_err\": 0.15489889884645916, \"ci_low\": 0.25695785269731375, \"ci_high\": 0.566755650390232}, {\"index\": \"Bulk 10\", \"cell_type\": \"alpha\", \"proportion\": 0.7157984240203202, \"ci_err\": 0.12246379366561488, \"ci_low\": 0.5933346303547054, \"ci_high\": 0.8382622176859351}, {\"index\": \"Bulk 11\", \"cell_type\": \"alpha\", \"proportion\": 0.5208420746580049, \"ci_err\": 0.07444600128079526, \"ci_low\": 0.44639607337720966, \"ci_high\": 0.5952880759388002}, {\"index\": \"Bulk 12\", \"cell_type\": \"alpha\", \"proportion\": 0.3124602489791891, \"ci_err\": 0.10558035519421255, \"ci_low\": 0.20687989378497657, \"ci_high\": 0.41804060417340166}, {\"index\": \"Bulk 13\", \"cell_type\": \"alpha\", \"proportion\": 0.568994776896827, \"ci_err\": 0.08161044186928021, \"ci_low\": 0.48738433502754674, \"ci_high\": 0.6506052187661072}, {\"index\": \"Bulk 14\", \"cell_type\": \"alpha\", \"proportion\": 0.29468344939764496, \"ci_err\": 0.12349584142662624, \"ci_low\": 0.17118760797101873, \"ci_high\": 0.4181792908242712}, {\"index\": \"Bulk 15\", \"cell_type\": \"alpha\", \"proportion\": 0.3952874947798645, \"ci_err\": 0.04867077771002937, \"ci_low\": 0.34661671706983516, \"ci_high\": 0.4439582724898939}, {\"index\": \"Bulk 16\", \"cell_type\": \"alpha\", \"proportion\": 0.9482935178060554, \"ci_err\": null, \"ci_low\": null, \"ci_high\": null}, {\"index\": \"Bulk 17\", \"cell_type\": \"alpha\", \"proportion\": 0.5412177360500172, \"ci_err\": 0.057194448455188396, \"ci_low\": 0.4840232875948288, \"ci_high\": 0.5984121845052056}, {\"index\": \"Bulk 0\", \"cell_type\": \"beta\", \"proportion\": 0.28438186729838755, \"ci_err\": 0.11836960600638285, \"ci_low\": 0.1660122612920047, \"ci_high\": 0.4027514733047704}, {\"index\": \"Bulk 1\", \"cell_type\": \"beta\", \"proportion\": 0.6188629636724009, \"ci_err\": 0.14422878928910285, \"ci_low\": 0.474634174383298, \"ci_high\": 0.7630917529615038}, {\"index\": \"Bulk 2\", \"cell_type\": \"beta\", \"proportion\": 0.2757602654612015, \"ci_err\": 0.14946296502225714, \"ci_low\": 0.12629730043894438, \"ci_high\": 0.42522323048345867}, {\"index\": \"Bulk 3\", \"cell_type\": \"beta\", \"proportion\": 0.39823367763022527, \"ci_err\": 0.1610132294435516, \"ci_low\": 0.23722044818667368, \"ci_high\": 0.5592469070737769}, {\"index\": \"Bulk 4\", \"cell_type\": \"beta\", \"proportion\": 0.36156873209006074, \"ci_err\": 0.2840402146811899, \"ci_low\": 0.07752851740887085, \"ci_high\": 0.6456089467712507}, {\"index\": \"Bulk 5\", \"cell_type\": \"beta\", \"proportion\": 0.13336464956427946, \"ci_err\": 0.11810486478702636, \"ci_low\": 0.015259784777253094, \"ci_high\": 0.2514695143513058}, {\"index\": \"Bulk 6\", \"cell_type\": \"beta\", \"proportion\": 0.633505888532991, \"ci_err\": 0.12907014555433205, \"ci_low\": 0.5044357429786589, \"ci_high\": 0.762576034087323}, {\"index\": \"Bulk 7\", \"cell_type\": \"beta\", \"proportion\": 0.463922806312891, \"ci_err\": 0.1434362833544171, \"ci_low\": 0.3204865229584739, \"ci_high\": 0.6073590896673081}, {\"index\": \"Bulk 8\", \"cell_type\": \"beta\", \"proportion\": 0.263907916990733, \"ci_err\": 0.14055577547439457, \"ci_low\": 0.12335214151633844, \"ci_high\": 0.4044636924651276}, {\"index\": \"Bulk 9\", \"cell_type\": \"beta\", \"proportion\": 0.5102596098951848, \"ci_err\": 0.14404635197423343, \"ci_low\": 0.3662132579209514, \"ci_high\": 0.6543059618694183}, {\"index\": \"Bulk 10\", \"cell_type\": \"beta\", \"proportion\": 0.22767507587652897, \"ci_err\": 0.13654938930114252, \"ci_low\": 0.09112568657538644, \"ci_high\": 0.3642244651776715}, {\"index\": \"Bulk 11\", \"cell_type\": \"beta\", \"proportion\": 0.4766579497990325, \"ci_err\": 0.07064845590394525, \"ci_low\": 0.4060094938950872, \"ci_high\": 0.5473064057029777}, {\"index\": \"Bulk 12\", \"cell_type\": \"beta\", \"proportion\": 0.15414199061465908, \"ci_err\": 0.0979589656819416, \"ci_low\": 0.056183024932717485, \"ci_high\": 0.2521009562966007}, {\"index\": \"Bulk 13\", \"cell_type\": \"beta\", \"proportion\": 0.1986044786741068, \"ci_err\": 0.08703652498690784, \"ci_low\": 0.11156795368719896, \"ci_high\": 0.28564100366101464}, {\"index\": \"Bulk 14\", \"cell_type\": \"beta\", \"proportion\": 0.5176038493382061, \"ci_err\": 0.12333236820578819, \"ci_low\": 0.39427148113241794, \"ci_high\": 0.6409362175439943}, {\"index\": \"Bulk 15\", \"cell_type\": \"beta\", \"proportion\": 0.5952573788823866, \"ci_err\": 0.024297547518318585, \"ci_low\": 0.570959831364068, \"ci_high\": 0.6195549264007052}, {\"index\": \"Bulk 16\", \"cell_type\": \"beta\", \"proportion\": 0.031223744083010783, \"ci_err\": 0.06489747222629852, \"ci_low\": 0.0, \"ci_high\": 0.09612121630930931}, {\"index\": \"Bulk 17\", \"cell_type\": \"beta\", \"proportion\": 0.45878226394998284, \"ci_err\": 0.06785852079872096, \"ci_low\": 0.3909237431512619, \"ci_high\": 0.5266407847487038}, {\"index\": \"Bulk 0\", \"cell_type\": \"delta\", \"proportion\": 0.08335069263671355, \"ci_err\": 0.06495835187257074, \"ci_low\": 0.01839234076414281, \"ci_high\": 0.14830904450928428}, {\"index\": \"Bulk 1\", \"cell_type\": \"delta\", \"proportion\": 0.11202514936703628, \"ci_err\": 0.08496429969279426, \"ci_low\": 0.02706084967424202, \"ci_high\": 0.19698944905983054}, {\"index\": \"Bulk 2\", \"cell_type\": \"delta\", \"proportion\": 0.04721402166287934, \"ci_err\": 0.08161532181649095, \"ci_low\": 0.0, \"ci_high\": 0.12882934347937028}, {\"index\": \"Bulk 3\", \"cell_type\": \"delta\", \"proportion\": 0.042777134978638984, \"ci_err\": 0.060332169883012696, \"ci_low\": 0.0, \"ci_high\": 0.10310930486165168}, {\"index\": \"Bulk 4\", \"cell_type\": \"delta\", \"proportion\": 0.15071848787569847, \"ci_err\": 0.16753730603041084, \"ci_low\": 0.0, \"ci_high\": 0.3182557939061093}, {\"index\": \"Bulk 5\", \"cell_type\": \"delta\", \"proportion\": 0.13784251048722335, \"ci_err\": 0.08454401778852938, \"ci_low\": 0.05329849269869397, \"ci_high\": 0.22238652827575273}, {\"index\": \"Bulk 6\", \"cell_type\": \"delta\", \"proportion\": 0.032206956503141315, \"ci_err\": 0.060275791166534726, \"ci_low\": 0.0, \"ci_high\": 0.09248274766967604}, {\"index\": \"Bulk 7\", \"cell_type\": \"delta\", \"proportion\": 0.08619458231002866, \"ci_err\": 0.06947909896547386, \"ci_low\": 0.016715483344554805, \"ci_high\": 0.15567368127550252}, {\"index\": \"Bulk 8\", \"cell_type\": \"delta\", \"proportion\": 0.0, \"ci_err\": 0.04258393673901646, \"ci_low\": 0.0, \"ci_high\": 0.04258393673901646}, {\"index\": \"Bulk 9\", \"cell_type\": \"delta\", \"proportion\": 0.07788363856104237, \"ci_err\": 0.0648248982526654, \"ci_low\": 0.013058740308376976, \"ci_high\": 0.14270853681370776}, {\"index\": \"Bulk 10\", \"cell_type\": \"delta\", \"proportion\": 0.03163870583329238, \"ci_err\": 0.04463398760930044, \"ci_low\": 0.0, \"ci_high\": 0.07627269344259283}, {\"index\": \"Bulk 11\", \"cell_type\": \"delta\", \"proportion\": 0.0, \"ci_err\": 0.016365449191237696, \"ci_low\": 0.0, \"ci_high\": 0.016365449191237696}, {\"index\": \"Bulk 12\", \"cell_type\": \"delta\", \"proportion\": 0.07554190992268865, \"ci_err\": 0.057335261759716025, \"ci_low\": 0.018206648162972627, \"ci_high\": 0.13287717168240468}, {\"index\": \"Bulk 13\", \"cell_type\": \"delta\", \"proportion\": 0.10666621722464391, \"ci_err\": 0.06408295965560085, \"ci_low\": 0.04258325756904306, \"ci_high\": 0.17074917688024477}, {\"index\": \"Bulk 14\", \"cell_type\": \"delta\", \"proportion\": 0.08121638324973007, \"ci_err\": 0.06586285461897151, \"ci_low\": 0.015353528630758562, \"ci_high\": 0.14707923786870158}, {\"index\": \"Bulk 15\", \"cell_type\": \"delta\", \"proportion\": 0.009455126337748898, \"ci_err\": 0.02508214032458593, \"ci_low\": 0.0, \"ci_high\": 0.03453726666233483}, {\"index\": \"Bulk 16\", \"cell_type\": \"delta\", \"proportion\": 0.0068348876935931694, \"ci_err\": 0.03070448124251981, \"ci_low\": 0.0, \"ci_high\": 0.037539368936112975}, {\"index\": \"Bulk 17\", \"cell_type\": \"delta\", \"proportion\": 0.0, \"ci_err\": 0.03099653076317967, \"ci_low\": 0.0, \"ci_high\": 0.03099653076317967}, {\"index\": \"Bulk 0\", \"cell_type\": \"gamma\", \"proportion\": 0.07164410230941357, \"ci_err\": 0.07573245860947952, \"ci_low\": 0.0, \"ci_high\": 0.1473765609188931}, {\"index\": \"Bulk 1\", \"cell_type\": \"gamma\", \"proportion\": 0.12326540490361071, \"ci_err\": 0.08780207090805653, \"ci_low\": 0.03546333399555418, \"ci_high\": 0.21106747581166724}, {\"index\": \"Bulk 2\", \"cell_type\": \"gamma\", \"proportion\": 0.0737193670726441, \"ci_err\": 0.07594147782969893, \"ci_low\": 0.0, \"ci_high\": 0.14966084490234305}, {\"index\": \"Bulk 3\", \"cell_type\": \"gamma\", \"proportion\": 0.13747716173579677, \"ci_err\": 0.10020998555231997, \"ci_low\": 0.0372671761834768, \"ci_high\": 0.23768714728811674}, {\"index\": \"Bulk 4\", \"cell_type\": \"gamma\", \"proportion\": 0.02211335042521182, \"ci_err\": 0.1417683639333723, \"ci_low\": 0.0, \"ci_high\": 0.16388171435858412}, {\"index\": \"Bulk 5\", \"cell_type\": \"gamma\", \"proportion\": 0.0499115184732681, \"ci_err\": 0.06638822826181032, \"ci_low\": 0.0, \"ci_high\": 0.11629974673507842}, {\"index\": \"Bulk 6\", \"cell_type\": \"gamma\", \"proportion\": 0.12821587288955602, \"ci_err\": 0.08591303413099502, \"ci_low\": 0.042302838758561, \"ci_high\": 0.21412890702055104}, {\"index\": \"Bulk 7\", \"cell_type\": \"gamma\", \"proportion\": 0.15444778024488595, \"ci_err\": 0.0952241369331758, \"ci_low\": 0.05922364331171015, \"ci_high\": 0.24967191717806175}, {\"index\": \"Bulk 8\", \"cell_type\": \"gamma\", \"proportion\": 0.13237642890564497, \"ci_err\": 0.08643688070531674, \"ci_low\": 0.04593954820032822, \"ci_high\": 0.2188133096109617}, {\"index\": \"Bulk 9\", \"cell_type\": \"gamma\", \"proportion\": 0.0, \"ci_err\": 0.05872673013528126, \"ci_low\": 0.0, \"ci_high\": 0.05872673013528126}, {\"index\": \"Bulk 10\", \"cell_type\": \"gamma\", \"proportion\": 0.02488779426985857, \"ci_err\": 0.06628329829104912, \"ci_low\": 0.0, \"ci_high\": 0.09117109256090769}, {\"index\": \"Bulk 11\", \"cell_type\": \"gamma\", \"proportion\": 0.00249997554296258, \"ci_err\": 0.03924462103159184, \"ci_low\": 0.0, \"ci_high\": 0.04174459657455442}, {\"index\": \"Bulk 12\", \"cell_type\": \"gamma\", \"proportion\": 0.4578558504834631, \"ci_err\": 0.0793092302735017, \"ci_low\": 0.37854662020996144, \"ci_high\": 0.5371650807569648}, {\"index\": \"Bulk 13\", \"cell_type\": \"gamma\", \"proportion\": 0.12573452720442235, \"ci_err\": 0.06437929972419465, \"ci_low\": 0.0613552274802277, \"ci_high\": 0.190113826928617}, {\"index\": \"Bulk 14\", \"cell_type\": \"gamma\", \"proportion\": 0.10649631801441876, \"ci_err\": 0.07862648730185497, \"ci_low\": 0.027869830712563798, \"ci_high\": 0.18512280531627373}, {\"index\": \"Bulk 15\", \"cell_type\": \"gamma\", \"proportion\": 0.0, \"ci_err\": 0.035442596384742286, \"ci_low\": 0.0, \"ci_high\": 0.035442596384742286}, {\"index\": \"Bulk 16\", \"cell_type\": \"gamma\", \"proportion\": 0.013647850417340658, \"ci_err\": 0.03865564605207756, \"ci_low\": 0.0, \"ci_high\": 0.05230349646941822}, {\"index\": \"Bulk 17\", \"cell_type\": \"gamma\", \"proportion\": 0.0, \"ci_err\": 0.03799816029328957, \"ci_low\": 0.0, \"ci_high\": 0.03799816029328957}]}}, {\"mode\": \"vega-lite\"});\n",
       "</script>"
      ],
      "text/plain": [
       "alt.Chart(...)"
      ]
     },
     "execution_count": 65,
     "metadata": {},
     "output_type": "execute_result"
    }
   ],
   "source": [
    "model1.plot_proportions('stacked').properties(title=\".\")"
   ]
  },
  {
   "cell_type": "markdown",
   "metadata": {},
   "source": [
    "## use selected gene"
   ]
  },
  {
   "cell_type": "code",
   "execution_count": 115,
   "metadata": {},
   "outputs": [],
   "source": [
    "df = readRDS('rnasieve/Xin_bulk_count_selected.rds')\n",
    "bulk_count = np.array(df)"
   ]
  },
  {
   "cell_type": "code",
   "execution_count": 116,
   "metadata": {},
   "outputs": [],
   "source": [
    "alpha = readRDS('rnasieve/alpha_selected.rds')\n",
    "alpha = np.array(alpha)\n",
    "\n",
    "beta = readRDS('rnasieve/beta_selected.rds')\n",
    "beta = np.array(beta)\n",
    "\n",
    "delta = readRDS('rnasieve/delta_selected.rds')\n",
    "delta = np.array(delta)\n",
    "\n",
    "gamma = readRDS('rnasieve/gamma_selected.rds')\n",
    "gamma = np.array(gamma)"
   ]
  },
  {
   "cell_type": "code",
   "execution_count": 117,
   "metadata": {},
   "outputs": [],
   "source": [
    "ref_count = {'alpha':alpha,'beta':beta,'delta':delta,'gamma':gamma}"
   ]
  },
  {
   "cell_type": "code",
   "execution_count": 118,
   "metadata": {},
   "outputs": [],
   "source": [
    "model11, cleaned_psis11 = model_from_raw_counts(ref_count, bulk_count,trim_percent=0.05,gene_thresh=0.2)"
   ]
  },
  {
   "cell_type": "code",
   "execution_count": 119,
   "metadata": {},
   "outputs": [
    {
     "name": "stderr",
     "output_type": "stream",
     "text": [
      "/anaconda3/lib/python3.7/site-packages/cvxpy/problems/problem.py:1061: UserWarning: Solution may be inaccurate. Try another solver, adjusting the solver settings, or solve with verbose=True for more information.\n",
      "  \"Solution may be inaccurate. Try another solver, \"\n",
      "/anaconda3/lib/python3.7/site-packages/cvxpy/problems/problem.py:1061: UserWarning: Solution may be inaccurate. Try another solver, adjusting the solver settings, or solve with verbose=True for more information.\n",
      "  \"Solution may be inaccurate. Try another solver, \"\n",
      "/anaconda3/lib/python3.7/site-packages/cvxpy/problems/problem.py:1061: UserWarning: Solution may be inaccurate. Try another solver, adjusting the solver settings, or solve with verbose=True for more information.\n",
      "  \"Solution may be inaccurate. Try another solver, \"\n",
      "/anaconda3/lib/python3.7/site-packages/cvxpy/problems/problem.py:1061: UserWarning: Solution may be inaccurate. Try another solver, adjusting the solver settings, or solve with verbose=True for more information.\n",
      "  \"Solution may be inaccurate. Try another solver, \"\n",
      "/anaconda3/lib/python3.7/site-packages/cvxpy/problems/problem.py:1061: UserWarning: Solution may be inaccurate. Try another solver, adjusting the solver settings, or solve with verbose=True for more information.\n",
      "  \"Solution may be inaccurate. Try another solver, \"\n",
      "/anaconda3/lib/python3.7/site-packages/cvxpy/problems/problem.py:1061: UserWarning: Solution may be inaccurate. Try another solver, adjusting the solver settings, or solve with verbose=True for more information.\n",
      "  \"Solution may be inaccurate. Try another solver, \"\n",
      "/anaconda3/lib/python3.7/site-packages/cvxpy/problems/problem.py:1061: UserWarning: Solution may be inaccurate. Try another solver, adjusting the solver settings, or solve with verbose=True for more information.\n",
      "  \"Solution may be inaccurate. Try another solver, \"\n",
      "/anaconda3/lib/python3.7/site-packages/cvxpy/problems/problem.py:1061: UserWarning: Solution may be inaccurate. Try another solver, adjusting the solver settings, or solve with verbose=True for more information.\n",
      "  \"Solution may be inaccurate. Try another solver, \"\n",
      "/anaconda3/lib/python3.7/site-packages/cvxpy/problems/problem.py:1061: UserWarning: Solution may be inaccurate. Try another solver, adjusting the solver settings, or solve with verbose=True for more information.\n",
      "  \"Solution may be inaccurate. Try another solver, \"\n",
      "/anaconda3/lib/python3.7/site-packages/cvxpy/problems/problem.py:1061: UserWarning: Solution may be inaccurate. Try another solver, adjusting the solver settings, or solve with verbose=True for more information.\n",
      "  \"Solution may be inaccurate. Try another solver, \"\n"
     ]
    }
   ],
   "source": [
    "out11 = model11.predict(cleaned_psis11)"
   ]
  },
  {
   "cell_type": "code",
   "execution_count": 120,
   "metadata": {},
   "outputs": [],
   "source": [
    "out11_ci = model11.compute_marginal_confidence_intervals(sig=0.05)"
   ]
  },
  {
   "cell_type": "code",
   "execution_count": 121,
   "metadata": {},
   "outputs": [],
   "source": [
    "coverage = np.zeros((18,4))\n",
    "for i in range(18):\n",
    "    b = true_beta[:,i]\n",
    "    ci = out1_ci[i]\n",
    "    for j in range(4):\n",
    "        if b[j]<=ci[j][1] and b[j]>=ci[j][0]:\n",
    "            coverage[i,j] = 1"
   ]
  },
  {
   "cell_type": "code",
   "execution_count": 122,
   "metadata": {},
   "outputs": [
    {
     "data": {
      "text/plain": [
       "array([[0., 1., 1., 1.],\n",
       "       [1., 1., 1., 1.],\n",
       "       [1., 1., 1., 1.],\n",
       "       [1., 1., 1., 1.],\n",
       "       [1., 1., 1., 1.],\n",
       "       [1., 1., 1., 1.],\n",
       "       [1., 1., 1., 1.],\n",
       "       [1., 1., 1., 1.],\n",
       "       [1., 1., 1., 1.],\n",
       "       [1., 1., 1., 1.],\n",
       "       [1., 1., 1., 1.],\n",
       "       [0., 0., 1., 1.],\n",
       "       [0., 1., 1., 1.],\n",
       "       [1., 1., 1., 1.],\n",
       "       [0., 1., 1., 1.],\n",
       "       [0., 0., 1., 1.],\n",
       "       [0., 1., 1., 1.],\n",
       "       [0., 0., 1., 1.]])"
      ]
     },
     "execution_count": 122,
     "metadata": {},
     "output_type": "execute_result"
    }
   ],
   "source": [
    "coverage"
   ]
  },
  {
   "cell_type": "code",
   "execution_count": 123,
   "metadata": {},
   "outputs": [
    {
     "data": {
      "text/plain": [
       "array([0.61111111, 0.83333333, 1.        , 1.        ])"
      ]
     },
     "execution_count": 123,
     "metadata": {},
     "output_type": "execute_result"
    }
   ],
   "source": [
    "np.mean(coverage,axis=0)"
   ]
  },
  {
   "cell_type": "code",
   "execution_count": 124,
   "metadata": {},
   "outputs": [
    {
     "data": {
      "text/plain": [
       "array([[[ 0.44,  0.68],\n",
       "        [ 0.17,  0.4 ],\n",
       "        [ 0.02,  0.15],\n",
       "        [-0.  ,  0.15]],\n",
       "\n",
       "       [[ 0.02,  0.27],\n",
       "        [ 0.47,  0.76],\n",
       "        [ 0.03,  0.2 ],\n",
       "        [ 0.04,  0.21]],\n",
       "\n",
       "       [[ 0.45,  0.75],\n",
       "        [ 0.13,  0.43],\n",
       "        [-0.03,  0.13],\n",
       "        [-0.  ,  0.15]],\n",
       "\n",
       "       [[ 0.26,  0.58],\n",
       "        [ 0.24,  0.56],\n",
       "        [-0.02,  0.1 ],\n",
       "        [ 0.04,  0.24]],\n",
       "\n",
       "       [[ 0.18,  0.75],\n",
       "        [ 0.08,  0.65],\n",
       "        [-0.02,  0.32],\n",
       "        [-0.12,  0.16]],\n",
       "\n",
       "       [[ 0.57,  0.79],\n",
       "        [ 0.02,  0.25],\n",
       "        [ 0.05,  0.22],\n",
       "        [-0.02,  0.12]],\n",
       "\n",
       "       [[ 0.08,  0.34],\n",
       "        [ 0.5 ,  0.76],\n",
       "        [-0.03,  0.09],\n",
       "        [ 0.04,  0.21]],\n",
       "\n",
       "       [[ 0.15,  0.44],\n",
       "        [ 0.32,  0.61],\n",
       "        [ 0.02,  0.16],\n",
       "        [ 0.06,  0.25]],\n",
       "\n",
       "       [[ 0.45,  0.75],\n",
       "        [ 0.12,  0.4 ],\n",
       "        [-0.04,  0.04],\n",
       "        [ 0.05,  0.22]],\n",
       "\n",
       "       [[ 0.26,  0.57],\n",
       "        [ 0.37,  0.65],\n",
       "        [ 0.01,  0.14],\n",
       "        [-0.06,  0.06]],\n",
       "\n",
       "       [[ 0.59,  0.84],\n",
       "        [ 0.09,  0.36],\n",
       "        [-0.01,  0.08],\n",
       "        [-0.04,  0.09]],\n",
       "\n",
       "       [[ 0.45,  0.6 ],\n",
       "        [ 0.41,  0.55],\n",
       "        [-0.02,  0.02],\n",
       "        [-0.04,  0.04]],\n",
       "\n",
       "       [[ 0.21,  0.42],\n",
       "        [ 0.06,  0.25],\n",
       "        [ 0.02,  0.13],\n",
       "        [ 0.38,  0.54]],\n",
       "\n",
       "       [[ 0.49,  0.65],\n",
       "        [ 0.11,  0.29],\n",
       "        [ 0.04,  0.17],\n",
       "        [ 0.06,  0.19]],\n",
       "\n",
       "       [[ 0.17,  0.42],\n",
       "        [ 0.39,  0.64],\n",
       "        [ 0.02,  0.15],\n",
       "        [ 0.03,  0.19]],\n",
       "\n",
       "       [[ 0.35,  0.44],\n",
       "        [ 0.57,  0.62],\n",
       "        [-0.02,  0.03],\n",
       "        [-0.04,  0.04]],\n",
       "\n",
       "       [[  nan,   nan],\n",
       "        [-0.03,  0.1 ],\n",
       "        [-0.02,  0.04],\n",
       "        [-0.03,  0.05]],\n",
       "\n",
       "       [[ 0.48,  0.6 ],\n",
       "        [ 0.39,  0.53],\n",
       "        [-0.03,  0.03],\n",
       "        [-0.04,  0.04]]])"
      ]
     },
     "execution_count": 124,
     "metadata": {},
     "output_type": "execute_result"
    }
   ],
   "source": [
    "np.round(out1_ci,2)"
   ]
  },
  {
   "cell_type": "code",
   "execution_count": 134,
   "metadata": {},
   "outputs": [
    {
     "data": {
      "text/plain": [
       "0.07726258449893357"
      ]
     },
     "execution_count": 134,
     "metadata": {},
     "output_type": "execute_result"
    }
   ],
   "source": [
    "np.sqrt(np.mean(np.square(np.array(out11 - np.transpose(true_beta)))))"
   ]
  },
  {
   "cell_type": "code",
   "execution_count": null,
   "metadata": {},
   "outputs": [],
   "source": []
  },
  {
   "cell_type": "code",
   "execution_count": 66,
   "metadata": {},
   "outputs": [],
   "source": [
    "## arbitrary proportions\n",
    "bulk_count_arb = readRDS('rnasieve/Xin_bulk_count_arbitrary_prop.rds')\n",
    "bulk_count_arb = np.array(bulk_count_arb)\n",
    "bulk_count_arb = np.delete(bulk_count_arb,rm_idx,axis = 0)"
   ]
  },
  {
   "cell_type": "code",
   "execution_count": null,
   "metadata": {},
   "outputs": [],
   "source": []
  },
  {
   "cell_type": "code",
   "execution_count": 67,
   "metadata": {},
   "outputs": [],
   "source": [
    "model2, cleaned_psis2 = model_from_raw_counts(ref_count, bulk_count_arb,trim_percent=0.05,gene_thresh=0.2)"
   ]
  },
  {
   "cell_type": "code",
   "execution_count": 68,
   "metadata": {},
   "outputs": [
    {
     "name": "stderr",
     "output_type": "stream",
     "text": [
      "/anaconda3/lib/python3.7/site-packages/cvxpy/problems/problem.py:1061: UserWarning: Solution may be inaccurate. Try another solver, adjusting the solver settings, or solve with verbose=True for more information.\n",
      "  \"Solution may be inaccurate. Try another solver, \"\n",
      "/anaconda3/lib/python3.7/site-packages/cvxpy/problems/problem.py:1061: UserWarning: Solution may be inaccurate. Try another solver, adjusting the solver settings, or solve with verbose=True for more information.\n",
      "  \"Solution may be inaccurate. Try another solver, \"\n",
      "/anaconda3/lib/python3.7/site-packages/cvxpy/problems/problem.py:1061: UserWarning: Solution may be inaccurate. Try another solver, adjusting the solver settings, or solve with verbose=True for more information.\n",
      "  \"Solution may be inaccurate. Try another solver, \"\n",
      "/anaconda3/lib/python3.7/site-packages/cvxpy/problems/problem.py:1061: UserWarning: Solution may be inaccurate. Try another solver, adjusting the solver settings, or solve with verbose=True for more information.\n",
      "  \"Solution may be inaccurate. Try another solver, \"\n",
      "/anaconda3/lib/python3.7/site-packages/cvxpy/problems/problem.py:1061: UserWarning: Solution may be inaccurate. Try another solver, adjusting the solver settings, or solve with verbose=True for more information.\n",
      "  \"Solution may be inaccurate. Try another solver, \"\n",
      "/anaconda3/lib/python3.7/site-packages/cvxpy/problems/problem.py:1061: UserWarning: Solution may be inaccurate. Try another solver, adjusting the solver settings, or solve with verbose=True for more information.\n",
      "  \"Solution may be inaccurate. Try another solver, \"\n",
      "/anaconda3/lib/python3.7/site-packages/cvxpy/problems/problem.py:1061: UserWarning: Solution may be inaccurate. Try another solver, adjusting the solver settings, or solve with verbose=True for more information.\n",
      "  \"Solution may be inaccurate. Try another solver, \"\n",
      "/anaconda3/lib/python3.7/site-packages/cvxpy/problems/problem.py:1061: UserWarning: Solution may be inaccurate. Try another solver, adjusting the solver settings, or solve with verbose=True for more information.\n",
      "  \"Solution may be inaccurate. Try another solver, \"\n",
      "/anaconda3/lib/python3.7/site-packages/cvxpy/problems/problem.py:1061: UserWarning: Solution may be inaccurate. Try another solver, adjusting the solver settings, or solve with verbose=True for more information.\n",
      "  \"Solution may be inaccurate. Try another solver, \"\n",
      "/anaconda3/lib/python3.7/site-packages/cvxpy/problems/problem.py:1061: UserWarning: Solution may be inaccurate. Try another solver, adjusting the solver settings, or solve with verbose=True for more information.\n",
      "  \"Solution may be inaccurate. Try another solver, \"\n"
     ]
    }
   ],
   "source": [
    "out2 = model2.predict(cleaned_psis2)"
   ]
  },
  {
   "cell_type": "code",
   "execution_count": 69,
   "metadata": {},
   "outputs": [
    {
     "data": {
      "text/html": [
       "<div>\n",
       "<style scoped>\n",
       "    .dataframe tbody tr th:only-of-type {\n",
       "        vertical-align: middle;\n",
       "    }\n",
       "\n",
       "    .dataframe tbody tr th {\n",
       "        vertical-align: top;\n",
       "    }\n",
       "\n",
       "    .dataframe thead th {\n",
       "        text-align: right;\n",
       "    }\n",
       "</style>\n",
       "<table border=\"1\" class=\"dataframe\">\n",
       "  <thead>\n",
       "    <tr style=\"text-align: right;\">\n",
       "      <th></th>\n",
       "      <th>alpha</th>\n",
       "      <th>beta</th>\n",
       "      <th>delta</th>\n",
       "      <th>gamma</th>\n",
       "    </tr>\n",
       "  </thead>\n",
       "  <tbody>\n",
       "    <tr>\n",
       "      <th>Bulk 0</th>\n",
       "      <td>0.316558</td>\n",
       "      <td>0.377991</td>\n",
       "      <td>0.190861</td>\n",
       "      <td>0.114589</td>\n",
       "    </tr>\n",
       "    <tr>\n",
       "      <th>Bulk 1</th>\n",
       "      <td>0.378962</td>\n",
       "      <td>0.348972</td>\n",
       "      <td>0.199963</td>\n",
       "      <td>0.072103</td>\n",
       "    </tr>\n",
       "    <tr>\n",
       "      <th>Bulk 2</th>\n",
       "      <td>0.370825</td>\n",
       "      <td>0.347346</td>\n",
       "      <td>0.163180</td>\n",
       "      <td>0.118649</td>\n",
       "    </tr>\n",
       "    <tr>\n",
       "      <th>Bulk 3</th>\n",
       "      <td>0.424094</td>\n",
       "      <td>0.265890</td>\n",
       "      <td>0.244512</td>\n",
       "      <td>0.065504</td>\n",
       "    </tr>\n",
       "    <tr>\n",
       "      <th>Bulk 4</th>\n",
       "      <td>0.374667</td>\n",
       "      <td>0.321262</td>\n",
       "      <td>0.243584</td>\n",
       "      <td>0.060487</td>\n",
       "    </tr>\n",
       "    <tr>\n",
       "      <th>Bulk 5</th>\n",
       "      <td>0.359752</td>\n",
       "      <td>0.376481</td>\n",
       "      <td>0.167832</td>\n",
       "      <td>0.095936</td>\n",
       "    </tr>\n",
       "    <tr>\n",
       "      <th>Bulk 6</th>\n",
       "      <td>0.416094</td>\n",
       "      <td>0.456097</td>\n",
       "      <td>0.000679</td>\n",
       "      <td>0.127131</td>\n",
       "    </tr>\n",
       "    <tr>\n",
       "      <th>Bulk 7</th>\n",
       "      <td>0.490968</td>\n",
       "      <td>0.422806</td>\n",
       "      <td>0.051844</td>\n",
       "      <td>0.034382</td>\n",
       "    </tr>\n",
       "    <tr>\n",
       "      <th>Bulk 8</th>\n",
       "      <td>0.037625</td>\n",
       "      <td>0.099506</td>\n",
       "      <td>0.247281</td>\n",
       "      <td>0.615588</td>\n",
       "    </tr>\n",
       "    <tr>\n",
       "      <th>Bulk 9</th>\n",
       "      <td>0.131090</td>\n",
       "      <td>0.106160</td>\n",
       "      <td>0.279558</td>\n",
       "      <td>0.483192</td>\n",
       "    </tr>\n",
       "    <tr>\n",
       "      <th>Bulk 10</th>\n",
       "      <td>0.000000</td>\n",
       "      <td>0.099559</td>\n",
       "      <td>0.337504</td>\n",
       "      <td>0.562936</td>\n",
       "    </tr>\n",
       "    <tr>\n",
       "      <th>Bulk 11</th>\n",
       "      <td>0.162817</td>\n",
       "      <td>0.252038</td>\n",
       "      <td>0.147048</td>\n",
       "      <td>0.438097</td>\n",
       "    </tr>\n",
       "    <tr>\n",
       "      <th>Bulk 12</th>\n",
       "      <td>0.522132</td>\n",
       "      <td>0.408803</td>\n",
       "      <td>0.034308</td>\n",
       "      <td>0.034757</td>\n",
       "    </tr>\n",
       "    <tr>\n",
       "      <th>Bulk 13</th>\n",
       "      <td>0.427624</td>\n",
       "      <td>0.348475</td>\n",
       "      <td>0.213067</td>\n",
       "      <td>0.010834</td>\n",
       "    </tr>\n",
       "  </tbody>\n",
       "</table>\n",
       "</div>"
      ],
      "text/plain": [
       "            alpha      beta     delta     gamma\n",
       "Bulk 0   0.316558  0.377991  0.190861  0.114589\n",
       "Bulk 1   0.378962  0.348972  0.199963  0.072103\n",
       "Bulk 2   0.370825  0.347346  0.163180  0.118649\n",
       "Bulk 3   0.424094  0.265890  0.244512  0.065504\n",
       "Bulk 4   0.374667  0.321262  0.243584  0.060487\n",
       "Bulk 5   0.359752  0.376481  0.167832  0.095936\n",
       "Bulk 6   0.416094  0.456097  0.000679  0.127131\n",
       "Bulk 7   0.490968  0.422806  0.051844  0.034382\n",
       "Bulk 8   0.037625  0.099506  0.247281  0.615588\n",
       "Bulk 9   0.131090  0.106160  0.279558  0.483192\n",
       "Bulk 10  0.000000  0.099559  0.337504  0.562936\n",
       "Bulk 11  0.162817  0.252038  0.147048  0.438097\n",
       "Bulk 12  0.522132  0.408803  0.034308  0.034757\n",
       "Bulk 13  0.427624  0.348475  0.213067  0.010834"
      ]
     },
     "execution_count": 69,
     "metadata": {},
     "output_type": "execute_result"
    }
   ],
   "source": [
    "out2"
   ]
  },
  {
   "cell_type": "code",
   "execution_count": 36,
   "metadata": {},
   "outputs": [
    {
     "name": "stdout",
     "output_type": "stream",
     "text": [
      "           alpha beta delta gamma\n",
      "Non T2D 1    0.4  0.3   0.2   0.1\n",
      "Non T2D 2    0.4  0.3   0.2   0.1\n",
      "Non T2D 3    0.4  0.3   0.2   0.1\n",
      "Non T2D 5    0.4  0.3   0.2   0.1\n",
      "Non T2D 6    0.4  0.3   0.2   0.1\n",
      "Non T2D 8    0.4  0.3   0.2   0.1\n",
      "Non T2D 9    0.4  0.3   0.2   0.1\n",
      "Non T2D 11   0.4  0.2   0.2   0.2\n",
      "T2D 1        0.4  0.2   0.2   0.2\n",
      "T2D 2        0.4  0.2   0.2   0.2\n",
      "T2D 3        0.4  0.2   0.2   0.2\n",
      "T2D 4        0.4  0.2   0.2   0.2\n",
      "T2D 5        0.4  0.2   0.2   0.2\n",
      "T2D 6        0.4  0.2   0.2   0.2\n",
      "\n"
     ]
    }
   ],
   "source": [
    "print(readRDS('rnasieve/Xin_bulk_count_arbitrary_prop_true_beta.rds'))"
   ]
  },
  {
   "cell_type": "code",
   "execution_count": 70,
   "metadata": {},
   "outputs": [
    {
     "name": "stderr",
     "output_type": "stream",
     "text": [
      "/Users/dongyue/Documents/deconvolution/rna-sieve/rnasieve/stats.py:129: RuntimeWarning: invalid value encountered in sqrt\n",
      "  c * np.sqrt(inverse_obs_FI[i, i])) for i in range(alpha.shape[1])]\n"
     ]
    }
   ],
   "source": [
    "out2_ci = model2.compute_marginal_confidence_intervals(sig=0.05)"
   ]
  },
  {
   "cell_type": "code",
   "execution_count": 71,
   "metadata": {},
   "outputs": [
    {
     "data": {
      "text/plain": [
       "[[(nan, nan),\n",
       "  (nan, nan),\n",
       "  (0.09623050954255237, 0.2854915579784694),\n",
       "  (-0.019045230932589086, 0.24822414068580556)],\n",
       " [(nan, nan),\n",
       "  (nan, nan),\n",
       "  (0.094424840160179, 0.30550202632426104),\n",
       "  (-0.017276645168872395, 0.1614816600848548)],\n",
       " [(nan, nan),\n",
       "  (nan, nan),\n",
       "  (0.046651043386650326, 0.27970877250697507),\n",
       "  (0.007600110707986829, 0.22969780789051716)],\n",
       " [(nan, nan),\n",
       "  (nan, nan),\n",
       "  (0.1049888898849877, 0.38403558475638055),\n",
       "  (-0.04617031147704459, 0.17717761865188464)],\n",
       " [(nan, nan),\n",
       "  (nan, nan),\n",
       "  (0.11301917650604554, 0.37414930529341983),\n",
       "  (-0.07130911085255687, 0.1922821877745889)],\n",
       " [(nan, nan),\n",
       "  (nan, nan),\n",
       "  (0.04295655830670207, 0.29270817806201305),\n",
       "  (-0.0343530996970729, 0.2262242418261246)],\n",
       " [(nan, nan),\n",
       "  (nan, nan),\n",
       "  (-0.026412922828547937, 0.027769927047901974),\n",
       "  (0.01922748918693032, 0.23503485984079767)],\n",
       " [(nan, nan),\n",
       "  (nan, nan),\n",
       "  (-0.016411513945121955, 0.1200996299358567),\n",
       "  (-0.06665957436886885, 0.13542377038987394)],\n",
       " [(-0.020913541384780424, 0.0961642237278267),\n",
       "  (0.017979424701136296, 0.1810320350592622),\n",
       "  (0.055269774172271774, 0.4392916563975846),\n",
       "  (0.3795521660061374, 0.8516242613205616)],\n",
       " [(0.07792353244839073, 0.1842561627058204),\n",
       "  (0.0207456377358239, 0.19157382982446963),\n",
       "  (nan, nan),\n",
       "  (0.3218120587559181, 0.6445725850237454)],\n",
       " [(-0.07739601924454904, 0.07739601924454904),\n",
       "  (0.027593563288010978, 0.17152520603858212),\n",
       "  (0.15174755267474008, 0.5232613911776808),\n",
       "  (0.3610476460356451, 0.7648246407853412)],\n",
       " [(0.11324679626941409, 0.2123867392422512),\n",
       "  (0.18752859515438586, 0.3165475729305189),\n",
       "  (0.026114256738002523, 0.2679824243113422),\n",
       "  (0.2576626689946705, 0.6185309463594147)],\n",
       " [(nan, nan),\n",
       "  (nan, nan),\n",
       "  (-0.0680929136015293, 0.13670864787199),\n",
       "  (-0.05909924800771669, 0.12861229268578964)],\n",
       " [(nan, nan),\n",
       "  (nan, nan),\n",
       "  (0.12215916294311349, 0.303974614998497),\n",
       "  (-0.08922230031639475, 0.11088978501739288)]]"
      ]
     },
     "execution_count": 71,
     "metadata": {},
     "output_type": "execute_result"
    }
   ],
   "source": [
    "out2_ci"
   ]
  },
  {
   "cell_type": "code",
   "execution_count": null,
   "metadata": {},
   "outputs": [],
   "source": []
  },
  {
   "cell_type": "code",
   "execution_count": 29,
   "metadata": {},
   "outputs": [],
   "source": [
    "import pandas as pd\n",
    "object = pd.read_pickle(\"rnasieve/pydict\")"
   ]
  },
  {
   "cell_type": "code",
   "execution_count": 30,
   "metadata": {},
   "outputs": [
    {
     "data": {
      "text/plain": [
       "{'Python': array([[0.05435182, 0.0281588 , 0.04076225, 0.04059642, 0.02307307],\n",
       "        [1.38620197, 2.10199706, 0.88167447, 1.32144163, 1.10771262],\n",
       "        [0.06067014, 0.05411912, 0.02008042, 0.06230577, 0.04260076],\n",
       "        [0.10053089, 0.28033634, 0.0632551 , 0.11781591, 0.11448539],\n",
       "        [3.08324976, 0.50175644, 2.31978051, 0.66613204, 1.24934222]]),\n",
       " 'C++': '.cpp',\n",
       " 'Java': '.java'}"
      ]
     },
     "execution_count": 30,
     "metadata": {},
     "output_type": "execute_result"
    }
   ],
   "source": [
    "object"
   ]
  },
  {
   "cell_type": "code",
   "execution_count": 54,
   "metadata": {},
   "outputs": [],
   "source": [
    "temp = pd.read_csv('rnasieve/temp.txt',sep=\"\\t\",index_col=0)"
   ]
  },
  {
   "cell_type": "code",
   "execution_count": 55,
   "metadata": {},
   "outputs": [
    {
     "data": {
      "text/html": [
       "<div>\n",
       "<style scoped>\n",
       "    .dataframe tbody tr th:only-of-type {\n",
       "        vertical-align: middle;\n",
       "    }\n",
       "\n",
       "    .dataframe tbody tr th {\n",
       "        vertical-align: top;\n",
       "    }\n",
       "\n",
       "    .dataframe thead th {\n",
       "        text-align: right;\n",
       "    }\n",
       "</style>\n",
       "<table border=\"1\" class=\"dataframe\">\n",
       "  <thead>\n",
       "    <tr style=\"text-align: right;\">\n",
       "      <th></th>\n",
       "      <th>delta</th>\n",
       "      <th>alpha</th>\n",
       "      <th>delta.1</th>\n",
       "      <th>gamma</th>\n",
       "      <th>alpha.1</th>\n",
       "    </tr>\n",
       "    <tr>\n",
       "      <th>gene</th>\n",
       "      <th></th>\n",
       "      <th></th>\n",
       "      <th></th>\n",
       "      <th></th>\n",
       "      <th></th>\n",
       "    </tr>\n",
       "  </thead>\n",
       "  <tbody>\n",
       "    <tr>\n",
       "      <th>SGIP1</th>\n",
       "      <td>0</td>\n",
       "      <td>0</td>\n",
       "      <td>0</td>\n",
       "      <td>32</td>\n",
       "      <td>0</td>\n",
       "    </tr>\n",
       "    <tr>\n",
       "      <th>AZIN2</th>\n",
       "      <td>0</td>\n",
       "      <td>0</td>\n",
       "      <td>0</td>\n",
       "      <td>0</td>\n",
       "      <td>0</td>\n",
       "    </tr>\n",
       "    <tr>\n",
       "      <th>CLIC4</th>\n",
       "      <td>3</td>\n",
       "      <td>0</td>\n",
       "      <td>0</td>\n",
       "      <td>1</td>\n",
       "      <td>0</td>\n",
       "    </tr>\n",
       "    <tr>\n",
       "      <th>AGBL4</th>\n",
       "      <td>0</td>\n",
       "      <td>0</td>\n",
       "      <td>0</td>\n",
       "      <td>0</td>\n",
       "      <td>0</td>\n",
       "    </tr>\n",
       "    <tr>\n",
       "      <th>NECAP2</th>\n",
       "      <td>0</td>\n",
       "      <td>0</td>\n",
       "      <td>0</td>\n",
       "      <td>0</td>\n",
       "      <td>0</td>\n",
       "    </tr>\n",
       "  </tbody>\n",
       "</table>\n",
       "</div>"
      ],
      "text/plain": [
       "        delta  alpha  delta.1  gamma  alpha.1\n",
       "gene                                         \n",
       "SGIP1       0      0        0     32        0\n",
       "AZIN2       0      0        0      0        0\n",
       "CLIC4       3      0        0      1        0\n",
       "AGBL4       0      0        0      0        0\n",
       "NECAP2      0      0        0      0        0"
      ]
     },
     "execution_count": 55,
     "metadata": {},
     "output_type": "execute_result"
    }
   ],
   "source": [
    "temp"
   ]
  },
  {
   "cell_type": "code",
   "execution_count": 56,
   "metadata": {},
   "outputs": [
    {
     "data": {
      "text/plain": [
       "array([[ 0,  0,  0, 32,  0],\n",
       "       [ 0,  0,  0,  0,  0],\n",
       "       [ 3,  0,  0,  1,  0],\n",
       "       [ 0,  0,  0,  0,  0],\n",
       "       [ 0,  0,  0,  0,  0]])"
      ]
     },
     "execution_count": 56,
     "metadata": {},
     "output_type": "execute_result"
    }
   ],
   "source": [
    "temp.values"
   ]
  },
  {
   "cell_type": "code",
   "execution_count": 48,
   "metadata": {},
   "outputs": [
    {
     "data": {
      "text/plain": [
       "array([[nan,  0.,  0.,  0., 32.,  0.],\n",
       "       [nan,  0.,  0.,  0.,  0.,  0.],\n",
       "       [nan,  3.,  0.,  0.,  1.,  0.],\n",
       "       [nan,  0.,  0.,  0.,  0.,  0.],\n",
       "       [nan,  0.,  0.,  0.,  0.,  0.]])"
      ]
     },
     "execution_count": 48,
     "metadata": {},
     "output_type": "execute_result"
    }
   ],
   "source": [
    "np.genfromtxt('rnasieve/temp.txt',skip_header=1)"
   ]
  },
  {
   "cell_type": "code",
   "execution_count": null,
   "metadata": {},
   "outputs": [],
   "source": []
  }
 ],
 "metadata": {
  "kernelspec": {
   "display_name": "Python 3",
   "language": "python",
   "name": "python3"
  },
  "language_info": {
   "codemirror_mode": {
    "name": "ipython",
    "version": 3
   },
   "file_extension": ".py",
   "mimetype": "text/x-python",
   "name": "python",
   "nbconvert_exporter": "python",
   "pygments_lexer": "ipython3",
   "version": "3.8.3"
  }
 },
 "nbformat": 4,
 "nbformat_minor": 2
}
